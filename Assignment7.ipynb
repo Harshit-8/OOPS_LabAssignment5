{
  "nbformat": 4,
  "nbformat_minor": 0,
  "metadata": {
    "colab": {
      "name": "Assignment7.ipynb",
      "provenance": [],
      "collapsed_sections": []
    },
    "kernelspec": {
      "name": "python3",
      "display_name": "Python 3"
    },
    "language_info": {
      "name": "python"
    }
  },
  "cells": [
    {
      "cell_type": "code",
      "metadata": {
        "colab": {
          "base_uri": "https://localhost:8080/"
        },
        "id": "eqAlV-SexYFi",
        "outputId": "f65ef9c2-92d4-4f45-c2b8-29a1d848647e"
      },
      "source": [
        "#PROBLEM 1\n",
        "\n",
        "class shape():\n",
        "    def area():\n",
        "        pass\n",
        "\n",
        "class circle(shape):\n",
        "    def __init__(self,radius):\n",
        "        self.radius = radius\n",
        "    def area(self):\n",
        "        print(\"The area is: \",3.14*(self.radius**2))\n",
        "        \n",
        "class square(shape):\n",
        "    def __init__(self,side):\n",
        "        self.side = side\n",
        "    def area(self):\n",
        "        print(\"The area is: \",self.side**2)\n",
        "        \n",
        "class rectangle(shape):\n",
        "    def __init__(self,l,b):\n",
        "        self.l = l\n",
        "        self.b = b\n",
        "    def area(self):\n",
        "        print(\"The area is: \",self.l*self.b)\n",
        "        \n",
        "a1 = circle(5)\n",
        "a1.area()\n",
        "a2 = square(8)\n",
        "a2.area()\n",
        "a3 = rectangle(15,24)\n",
        "a3.area()"
      ],
      "execution_count": 6,
      "outputs": [
        {
          "output_type": "stream",
          "name": "stdout",
          "text": [
            "The area is:  78.5\n",
            "The area is:  64\n",
            "The area is:  360\n"
          ]
        }
      ]
    },
    {
      "cell_type": "code",
      "metadata": {
        "id": "XIJdQSNex-SL",
        "colab": {
          "base_uri": "https://localhost:8080/"
        },
        "outputId": "1d9ace57-c423-4295-e9a7-a1a70b4d951b"
      },
      "source": [
        "#PROBLEM 2\n",
        "\n",
        "class travel():\n",
        "    def __init__(self,distance, mode):\n",
        "        self.distance = distance\n",
        "        self.mode = mode\n",
        "        self._number = 10\n",
        "\n",
        "class train(travel):\n",
        "    def __init__(self,distance,mode):\n",
        "        travel.__init__(self,distance,mode)\n",
        "        \n",
        "    def cost(self):\n",
        "        print(\"Cost due to train : \", self._number*60)\n",
        "    \n",
        "class bus(travel):\n",
        "    def __init__(self,distance,mode):\n",
        "        travel.__init__(self,distance,mode)\n",
        "       \n",
        "    def cost(self):\n",
        "        print(\"Cost due to bus: \", self._number*100)\n",
        "\n",
        "fam_1 = train(100,\"train\")\n",
        "fam_2 = bus(100, \"bus\")\n",
        "\n",
        "fam_1.cost()\n",
        "fam_2.cost()"
      ],
      "execution_count": 8,
      "outputs": [
        {
          "output_type": "stream",
          "name": "stdout",
          "text": [
            "Cost due to train :  600\n",
            "Cost due to bus:  1000\n"
          ]
        }
      ]
    },
    {
      "cell_type": "code",
      "metadata": {
        "colab": {
          "base_uri": "https://localhost:8080/"
        },
        "id": "IRKmVLCNzZIQ",
        "outputId": "4dce6973-fd67-4788-ed12-303b25c27a68"
      },
      "source": [
        "#PROBLEM 3\n",
        "\n",
        "class Car:\n",
        "  def __init__(self, mNo):\n",
        "    self.mNo = mNo\n",
        "\n",
        "def swap_model_no(car1, car2):\n",
        "  car1.mNo, car2.mNo = car2.mNo, car1.mNo\n",
        "\n",
        "c1 = Car('20BM42A')\n",
        "c2 = Car('28KS18T')\n",
        "print('Before swapping the model number:')\n",
        "print(f'Car 1: {c1.mNo}\\nCar 2: {c2.mNo}')\n",
        "swap_model_no(c1, c2)\n",
        "print('After swapping the model number:')\n",
        "print(f'Car 1: {c1.mNo}\\nCar 2: {c2.mNo}')"
      ],
      "execution_count": 10,
      "outputs": [
        {
          "output_type": "stream",
          "name": "stdout",
          "text": [
            "Before swapping the model number:\n",
            "Car 1: 20BM42A\n",
            "Car 2: 28KS18T\n",
            "After swapping the model number:\n",
            "Car 1: 28KS18T\n",
            "Car 2: 20BM42A\n"
          ]
        }
      ]
    },
    {
      "cell_type": "code",
      "metadata": {
        "id": "NHx15LLE1j62"
      },
      "source": [
        ""
      ],
      "execution_count": null,
      "outputs": []
    }
  ]
}